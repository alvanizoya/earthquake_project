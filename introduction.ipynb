{
    "nbformat_minor": 1, 
    "cells": [
        {
            "source": "### Introduction\nCurrently, I am living and working in Japan. I intend to settle permanently in this country. Everything here is very good, from culture, food to people. However, as you all know, Japan often has earthquakes, and that's what I'm really scared of. Therefore, as a graduation project for this course, I will investigate Japanese earthquake data in the past and will show it on a map so that when we look at it we will know the locality which is good.\n\n### Business Problem \nThe problem here will be: \n**Based on the earthquake data in the past, can we know where the earthquake occurs frequently?**", 
            "cell_type": "markdown", 
            "metadata": {
                "collapsed": true
            }
        }, 
        {
            "source": "### Data\n\nTo solve this problem, I need to know earthquake data in Japan in the past. And I will use this data at the following web address\nhttps://earthquake.tenki.jp/bousai/earthquake/entries/\n\nThis data provides me with information about \n**when an earthquake occurs(Time), where it happens(Location), Magnitude, maximum seismic intensity(Maximum)**", 
            "cell_type": "markdown", 
            "metadata": {}
        }, 
        {
            "source": "", 
            "cell_type": "code", 
            "metadata": {}, 
            "outputs": [], 
            "execution_count": null
        }
    ], 
    "metadata": {
        "kernelspec": {
            "display_name": "Python 3.5", 
            "name": "python3", 
            "language": "python"
        }, 
        "language_info": {
            "mimetype": "text/x-python", 
            "nbconvert_exporter": "python", 
            "version": "3.5.5", 
            "name": "python", 
            "file_extension": ".py", 
            "pygments_lexer": "ipython3", 
            "codemirror_mode": {
                "version": 3, 
                "name": "ipython"
            }
        }
    }, 
    "nbformat": 4
}