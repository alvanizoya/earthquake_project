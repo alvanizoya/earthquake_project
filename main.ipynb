{
    "nbformat_minor": 1, 
    "cells": [
        {
            "source": "# Step 1. Get data from website to dataframe\n\n#### Get data from *https://earthquake.tenki.jp/bousai/earthquake/entries/* by Time, Location, Magnitude, Maximum", 
            "cell_type": "markdown", 
            "metadata": {}
        }, 
        {
            "source": "from bs4 import BeautifulSoup\nimport pandas as pd\nimport requests\nimport numpy as np", 
            "cell_type": "code", 
            "metadata": {}, 
            "outputs": [], 
            "execution_count": 2
        }, 
        {
            "source": "DATALINK = 'https://earthquake.tenki.jp/bousai/earthquake/entries/'\n\ndf = pd.DataFrame(columns=['Time', 'Location', 'Magnitude', 'Maximum'])\n\nfor i in range(1,269):\n    if i > 1:\n        datalink = DATALINK + 'page-' + str(i) +'.html'\n    else:\n        datalink = DATALINK\n    source = requests.get(datalink).text\n    soup = BeautifulSoup(source, 'html.parser')\n    table = soup.find_all('table', {'class':'earthquake-entries-table'})[0]\n    trs = table.find_all('tr')[1:]\n    for j in range(0,len(trs)):\n        tds = trs[j].text.split('\\n')\n        time = tds[2]\n        location = tds[3]\n        magnitude = tds[4][1:]\n        try:\n            tmp1 = float(magnitude)\n            magnitude = tmp1\n        except ValueError:\n            magnitude = np.nan\n        if len(trs[j].find_all('td')[4].find_all('img', alt=True)) > 0:\n            maximum = trs[j].find_all('td')[4].find_all('img', alt=True)[0]['alt']\n            try:\n                tmp2 = int(maximum)\n                maximum = tmp2\n            except ValueError:\n                try:\n                    tmp3 = int(maximum[0])\n                    maximum = tmp3\n                except ValueError:\n                    maximum = np.nan\n        else:\n            maximum = np.nan\n        df = df.append({'Time': time,\n                        'Location': location,\n                        'Magnitude': magnitude,\n                        'Maximum':maximum}, ignore_index=True)\ndf.head(5)", 
            "cell_type": "code", 
            "metadata": {}, 
            "outputs": [], 
            "execution_count": null
        }, 
        {
            "source": "## Step 2. Get all data Maximum that has greater than 4", 
            "cell_type": "markdown", 
            "metadata": {}
        }, 
        {
            "source": "df.dropna(axis=0, inplace=True)\ndf['Maximum'] = df.Maximum.astype(int)\ndf_4up = df.loc[df['Maximum'] >= 4]\ndf_4up.shape", 
            "cell_type": "code", 
            "metadata": {}, 
            "outputs": [
                {
                    "output_type": "execute_result", 
                    "data": {
                        "text/plain": "(897, 4)"
                    }, 
                    "execution_count": 34, 
                    "metadata": {}
                }
            ], 
            "execution_count": 34
        }, 
        {
            "source": "", 
            "cell_type": "code", 
            "metadata": {}, 
            "outputs": [], 
            "execution_count": null
        }
    ], 
    "metadata": {
        "kernelspec": {
            "display_name": "Python 3.5", 
            "name": "python3", 
            "language": "python"
        }, 
        "language_info": {
            "mimetype": "text/x-python", 
            "nbconvert_exporter": "python", 
            "version": "3.5.5", 
            "name": "python", 
            "file_extension": ".py", 
            "pygments_lexer": "ipython3", 
            "codemirror_mode": {
                "version": 3, 
                "name": "ipython"
            }
        }
    }, 
    "nbformat": 4
}