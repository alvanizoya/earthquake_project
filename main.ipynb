{
    "nbformat_minor": 1, 
    "cells": [
        {
            "source": "# Step 1. Get data from website to dataframe\n\n#### Get data from *https://earthquake.tenki.jp/bousai/earthquake/entries/* by Time, Location, Magnitude, Maximum", 
            "cell_type": "markdown", 
            "metadata": {}
        }, 
        {
            "source": "from bs4 import BeautifulSoup\nfrom geopy.geocoders import Nominatim\nimport pandas as pd\nimport requests\nimport numpy as np\n!conda install -c conda-forge folium=0.5.0\nimport folium", 
            "cell_type": "code", 
            "metadata": {}, 
            "outputs": [
                {
                    "output_type": "stream", 
                    "name": "stdout", 
                    "text": "Fetching package metadata .............\nSolving package specifications: .\n\nPackage plan for installation in environment /opt/conda/envs/DSX-Python35:\n\nThe following NEW packages will be INSTALLED:\n\n    altair:  2.2.2-py35_1 conda-forge\n    branca:  0.3.1-py_0   conda-forge\n    folium:  0.5.0-py_0   conda-forge\n    vincent: 0.4.4-py_1   conda-forge\n\naltair-2.2.2-p 100% |################################| Time: 0:00:00  54.65 MB/s\nbranca-0.3.1-p 100% |################################| Time: 0:00:00  36.20 MB/s\nvincent-0.4.4- 100% |################################| Time: 0:00:00  39.11 MB/s\nfolium-0.5.0-p 100% |################################| Time: 0:00:00  45.40 MB/s\n"
                }
            ], 
            "execution_count": 2
        }, 
        {
            "source": "DATALINK = 'https://earthquake.tenki.jp/bousai/earthquake/entries/'\n\ndf = pd.DataFrame(columns=['Time', 'Location', 'Magnitude', 'Maximum'])\n\ngeolocator = Nominatim()\n\nCOUNTRY = ', \u65e5\u672c'\n\nfor i in range(1,269):\n    if i > 1:\n        datalink = DATALINK + 'page-' + str(i) +'.html'\n    else:\n        datalink = DATALINK\n    source = requests.get(datalink).text\n    soup = BeautifulSoup(source, 'html.parser')\n    table = soup.find_all('table', {'class':'earthquake-entries-table'})[0]\n    trs = table.find_all('tr')[1:]\n    for j in range(0,len(trs)):\n        tds = trs[j].text.split('\\n')\n        time = tds[2]\n        location = tds[3]\n        magnitude = tds[4][1:]\n        try:\n            tmp1 = float(magnitude)\n            magnitude = tmp1\n        except ValueError:\n            magnitude = np.nan\n        if len(trs[j].find_all('td')[4].find_all('img', alt=True)) > 0:\n            maximum = trs[j].find_all('td')[4].find_all('img', alt=True)[0]['alt']\n            try:\n                tmp2 = int(maximum)\n                maximum = tmp2\n            except ValueError:\n                try:\n                    tmp3 = int(maximum[0])\n                    maximum = tmp3\n                except ValueError:\n                    maximum = np.nan\n        else:\n            maximum = np.nan\n        df = df.append({'Time': time,\n                        'Location': location,\n                        'Magnitude': magnitude,\n                        'Maximum':maximum}, ignore_index=True)\ndf.head(5)", 
            "cell_type": "code", 
            "metadata": {}, 
            "outputs": [
                {
                    "output_type": "execute_result", 
                    "data": {
                        "text/plain": "                 Time Location  Magnitude Maximum\n0  2019\u5e7403\u670828\u65e511\u664217\u5206\u9803      \u5341\u52dd\u6c96        4.6       2\n1  2019\u5e7403\u670828\u65e508\u664212\u5206\u9803   \u5944\u7f8e\u5927\u5cf6\u8fd1\u6d77        3.6       1\n2  2019\u5e7403\u670827\u65e518\u664211\u5206\u9803      \u65e5\u5411\u7058        3.7       1\n3  2019\u5e7403\u670827\u65e515\u664254\u5206\u9803      \u65e5\u5411\u7058        2.7       1\n4  2019\u5e7403\u670827\u65e515\u664238\u5206\u9803      \u65e5\u5411\u7058        5.4       4", 
                        "text/html": "<div>\n<style scoped>\n    .dataframe tbody tr th:only-of-type {\n        vertical-align: middle;\n    }\n\n    .dataframe tbody tr th {\n        vertical-align: top;\n    }\n\n    .dataframe thead th {\n        text-align: right;\n    }\n</style>\n<table border=\"1\" class=\"dataframe\">\n  <thead>\n    <tr style=\"text-align: right;\">\n      <th></th>\n      <th>Time</th>\n      <th>Location</th>\n      <th>Magnitude</th>\n      <th>Maximum</th>\n    </tr>\n  </thead>\n  <tbody>\n    <tr>\n      <th>0</th>\n      <td>2019\u5e7403\u670828\u65e511\u664217\u5206\u9803</td>\n      <td>\u5341\u52dd\u6c96</td>\n      <td>4.6</td>\n      <td>2</td>\n    </tr>\n    <tr>\n      <th>1</th>\n      <td>2019\u5e7403\u670828\u65e508\u664212\u5206\u9803</td>\n      <td>\u5944\u7f8e\u5927\u5cf6\u8fd1\u6d77</td>\n      <td>3.6</td>\n      <td>1</td>\n    </tr>\n    <tr>\n      <th>2</th>\n      <td>2019\u5e7403\u670827\u65e518\u664211\u5206\u9803</td>\n      <td>\u65e5\u5411\u7058</td>\n      <td>3.7</td>\n      <td>1</td>\n    </tr>\n    <tr>\n      <th>3</th>\n      <td>2019\u5e7403\u670827\u65e515\u664254\u5206\u9803</td>\n      <td>\u65e5\u5411\u7058</td>\n      <td>2.7</td>\n      <td>1</td>\n    </tr>\n    <tr>\n      <th>4</th>\n      <td>2019\u5e7403\u670827\u65e515\u664238\u5206\u9803</td>\n      <td>\u65e5\u5411\u7058</td>\n      <td>5.4</td>\n      <td>4</td>\n    </tr>\n  </tbody>\n</table>\n</div>"
                    }, 
                    "execution_count": 58, 
                    "metadata": {}
                }
            ], 
            "execution_count": 58
        }, 
        {
            "source": "## Step 2. Format Data\n*Remove rows that is na", 
            "cell_type": "markdown", 
            "metadata": {}
        }, 
        {
            "source": "df.dropna(axis=0, inplace=True)\ndf = df.reset_index(drop=True)\ndf.shape", 
            "cell_type": "code", 
            "metadata": {}, 
            "outputs": [
                {
                    "output_type": "execute_result", 
                    "data": {
                        "text/plain": "(26540, 4)"
                    }, 
                    "execution_count": 94, 
                    "metadata": {}
                }
            ], 
            "execution_count": 94
        }, 
        {
            "source": "def getLocation(location):\n    tmp = location.find('\u90fd')\n    if tmp > 0:\n        return location[:tmp] + '\u90fd'\n    \n    tmp = location.find('\u9053')\n    if tmp > 0:\n        return location[:tmp] + '\u9053'\n    \n    tmp = location.find('\u5e9c')\n    if tmp > 0:\n        return location[:tmp] + '\u5e9c'\n    \n    tmp = location.find('\u770c')\n    if tmp > 0:\n        return location[:tmp] + '\u770c'\n    \n    tmp = location.find('\u5cf6')\n    if tmp > 0:\n        return location[:tmp] + '\u5cf6'\n    \n    return location", 
            "cell_type": "code", 
            "metadata": {}, 
            "outputs": [], 
            "execution_count": 95
        }, 
        {
            "source": "## Step 3. Get all data Maximum that has greater than 4. \n*Because Magnitude range from 4.0 and above is dangerous*", 
            "cell_type": "markdown", 
            "metadata": {}
        }, 
        {
            "source": "df_4up = df.loc[df['Maximum'] >= 4]\ndf_4up = df_4up.reset_index(drop=True)\n\nfor index in range(0, df_4up.shape[0]):\n    city = getLocation(df_4up.loc[index, 'Location'])\n    df_4up.loc[index, 'Location'] = city\n    df_4up.loc[index, 'Time'] = 1\n\ndf_4up.head()", 
            "cell_type": "code", 
            "metadata": {}, 
            "outputs": [
                {
                    "output_type": "execute_result", 
                    "data": {
                        "text/plain": "   Time Location  Magnitude Maximum\n0     1      \u65e5\u5411\u7058        5.4       4\n1     1     \u7d00\u4f0a\u6c34\u9053        5.2       4\n2     1      \u5c90\u961c\u770c        4.5       4\n3     1      \u5bae\u57ce\u770c        4.6       4\n4     1     \u6839\u5ba4\u534a\u5cf6        6.2       4", 
                        "text/html": "<div>\n<style scoped>\n    .dataframe tbody tr th:only-of-type {\n        vertical-align: middle;\n    }\n\n    .dataframe tbody tr th {\n        vertical-align: top;\n    }\n\n    .dataframe thead th {\n        text-align: right;\n    }\n</style>\n<table border=\"1\" class=\"dataframe\">\n  <thead>\n    <tr style=\"text-align: right;\">\n      <th></th>\n      <th>Time</th>\n      <th>Location</th>\n      <th>Magnitude</th>\n      <th>Maximum</th>\n    </tr>\n  </thead>\n  <tbody>\n    <tr>\n      <th>0</th>\n      <td>1</td>\n      <td>\u65e5\u5411\u7058</td>\n      <td>5.4</td>\n      <td>4</td>\n    </tr>\n    <tr>\n      <th>1</th>\n      <td>1</td>\n      <td>\u7d00\u4f0a\u6c34\u9053</td>\n      <td>5.2</td>\n      <td>4</td>\n    </tr>\n    <tr>\n      <th>2</th>\n      <td>1</td>\n      <td>\u5c90\u961c\u770c</td>\n      <td>4.5</td>\n      <td>4</td>\n    </tr>\n    <tr>\n      <th>3</th>\n      <td>1</td>\n      <td>\u5bae\u57ce\u770c</td>\n      <td>4.6</td>\n      <td>4</td>\n    </tr>\n    <tr>\n      <th>4</th>\n      <td>1</td>\n      <td>\u6839\u5ba4\u534a\u5cf6</td>\n      <td>6.2</td>\n      <td>4</td>\n    </tr>\n  </tbody>\n</table>\n</div>"
                    }, 
                    "execution_count": 119, 
                    "metadata": {}
                }
            ], 
            "execution_count": 119
        }, 
        {
            "source": "## Step 4. Find the top 5 areas with frequent earthquakes", 
            "cell_type": "markdown", 
            "metadata": {}
        }, 
        {
            "source": "top5 = df_4up\ntop5.drop(['Magnitude', 'Maximum'], axis=1, inplace=True)\ntop5 = top5.groupby(['Location']).count().sort_values(['Time'], ascending=False).head(5)\n\ntop5.head()", 
            "cell_type": "code", 
            "metadata": {}, 
            "outputs": [
                {
                    "output_type": "execute_result", 
                    "data": {
                        "text/plain": "          Time\nLocation      \n\u798f\u5cf6\u770c        158\n\u8328\u57ce\u770c        124\n\u718a\u672c\u770c        121\n\u5bae\u57ce\u770c         58\n\u5ca9\u624b\u770c         57", 
                        "text/html": "<div>\n<style scoped>\n    .dataframe tbody tr th:only-of-type {\n        vertical-align: middle;\n    }\n\n    .dataframe tbody tr th {\n        vertical-align: top;\n    }\n\n    .dataframe thead th {\n        text-align: right;\n    }\n</style>\n<table border=\"1\" class=\"dataframe\">\n  <thead>\n    <tr style=\"text-align: right;\">\n      <th></th>\n      <th>Time</th>\n    </tr>\n    <tr>\n      <th>Location</th>\n      <th></th>\n    </tr>\n  </thead>\n  <tbody>\n    <tr>\n      <th>\u798f\u5cf6\u770c</th>\n      <td>158</td>\n    </tr>\n    <tr>\n      <th>\u8328\u57ce\u770c</th>\n      <td>124</td>\n    </tr>\n    <tr>\n      <th>\u718a\u672c\u770c</th>\n      <td>121</td>\n    </tr>\n    <tr>\n      <th>\u5bae\u57ce\u770c</th>\n      <td>58</td>\n    </tr>\n    <tr>\n      <th>\u5ca9\u624b\u770c</th>\n      <td>57</td>\n    </tr>\n  </tbody>\n</table>\n</div>"
                    }, 
                    "execution_count": 120, 
                    "metadata": {}
                }
            ], 
            "execution_count": 120
        }, 
        {
            "source": "## Step 5. Visualize top 5 regions on Japan's map", 
            "cell_type": "markdown", 
            "metadata": {}
        }, 
        {
            "source": "japan = geolocator.geocode('Japan')\njapan_map = folium.Map(location=[japan.latitude, japan.longitude], zoom_start=5)\n\nfor tmp in top5.index.values:\n    location = geolocator.geocode(tmp + ', \u65e5\u672c')\n    folium.CircleMarker(\n        [location.latitude, location.longitude],\n        radius=0.5,\n        color='red',\n        fill=True,\n        fill_color='red',\n        fill_opacity=0.7).add_to(japan_map)\n\n#osaka, Japan\nfolium.CircleMarker(\n        [34.652500, 135.506302],\n        radius=2,\n        color='blue',\n        fill=True,\n        fill_color='blue',\n        fill_opacity=0.7).add_to(japan_map)\n\n#tokyo, Japan\nfolium.CircleMarker(\n        [35.652832, 139.839478\t],\n        radius=2,\n        color='blue',\n        fill=True,\n        fill_color='blue',\n        fill_opacity=0.7).add_to(japan_map)\n\njapan_map", 
            "cell_type": "code", 
            "metadata": {
                "scrolled": true
            }, 
            "outputs": [
                {
                    "output_type": "execute_result", 
                    "data": {
                        "text/plain": "<folium.folium.Map at 0x7f89ad335fd0>", 
                        "text/html": "<div style=\"width:100%;\"><div style=\"position:relative;width:100%;height:0;padding-bottom:60%;\"><iframe src=\"data:text/html;charset=utf-8;base64,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\" style=\"position:absolute;width:100%;height:100%;left:0;top:0;border:none !important;\" allowfullscreen webkitallowfullscreen mozallowfullscreen></iframe></div></div>"
                    }, 
                    "execution_count": 127, 
                    "metadata": {}
                }
            ], 
            "execution_count": 127
        }, 
        {
            "source": "#### Currently, I am living in Osaka(\u5927\u962a\uff09 and if I have permanent residence, I will choose Osaka\uff08\u5927\u962a\uff09 and Tokyo\uff08\u6771\u4eac\uff09. Based on the analysis results, these two cities do not have many earthquakes, so I can be assured of this problem", 
            "cell_type": "markdown", 
            "metadata": {}
        }, 
        {
            "source": "", 
            "cell_type": "code", 
            "metadata": {}, 
            "outputs": [], 
            "execution_count": null
        }
    ], 
    "metadata": {
        "kernelspec": {
            "display_name": "Python 3.5", 
            "name": "python3", 
            "language": "python"
        }, 
        "language_info": {
            "mimetype": "text/x-python", 
            "nbconvert_exporter": "python", 
            "version": "3.5.5", 
            "name": "python", 
            "pygments_lexer": "ipython3", 
            "file_extension": ".py", 
            "codemirror_mode": {
                "version": 3, 
                "name": "ipython"
            }
        }
    }, 
    "nbformat": 4
}